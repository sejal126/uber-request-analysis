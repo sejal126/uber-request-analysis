{
 "cells": [
  {
   "cell_type": "markdown",
   "metadata": {},
   "source": [
    "# Uber Request Data Exploratory Data Analysis\n",
    "\n",
    "## Project Overview\n",
    "This notebook contains the exploratory data analysis of Uber request data. We'll analyze patterns in requests, cancellations, wait times, and other key metrics."
   ]
  },
  {
   "cell_type": "code",
   "execution_count": null,
   "metadata": {},
   "source": [
    "# Import necessary libraries\n",
    "import pandas as pd\n",
    "import numpy as np\n",
    "import matplotlib.pyplot as plt\n",
    "import seaborn as sns\n",
    "from datetime import datetime\n",
    "\n",
    "# Set plot style\n",
    "plt.style.use('seaborn')\n",
    "plt.rcParams['figure.figsize'] = (12, 6)\n",
    "\n",
    "# Read the data\n",
    "df = pd.read_csv('../data/Uber_Request_Data.csv')\n",
    "\n",
    "# Display basic information\n",
    "print(\"Data Shape:\", df.shape)\n",
    "print(\"\nData Columns:\")\n",
    "print(df.columns.tolist())\n",
    "\n",
    "# Convert timestamp columns to datetime\n",
    "df['Request_timestamp'] = pd.to_datetime(df['Request_timestamp'])\n",
    "df['Pickup_timestamp'] = pd.to_datetime(df['Pickup_timestamp'])"
   ]
  },
  {
   "cell_type": "markdown",
   "metadata": {},
   "source": [
    "## 1. Data Cleaning\n",
    "Let's clean and prepare the data for analysis."
   ]
  },
  {
   "cell_type": "code",
   "execution_count": null,
   "metadata": {},
   "source": [
    "# Add calculated columns\n",
    "df['Hour'] = df['Request_timestamp'].dt.hour\n",
    "df['Day'] = df['Request_timestamp'].dt.day_name()\n",
    "df['Weekday'] = df['Request_timestamp'].dt.weekday\n",
    "df['Date'] = df['Request_timestamp'].dt.date\n",
    "\n",
    "# Calculate wait time in minutes\n",
    "df['Wait_Time'] = (df['Pickup_timestamp'] - df['Request_timestamp']).dt.total_seconds() / 60\n",
    "\n",
    "# Clean Status column\n",
    "df['Status'] = df['Status'].str.strip()\n",
    "\n",
    "# Display cleaned data\n",
    "df.head()"
   ]
  },
  {
   "cell_type": "markdown",
   "metadata": {},
   "source": [
    "## 2. Data Analysis\n",
    "### 2.1 Request Distribution by Location"
   ]
  },
  {
   "cell_type": "code",
   "execution_count": null,
   "metadata": {},
   "source": [
    "# Request distribution by location\n",
    "location_dist = df['Pickup_point'].value_counts()\n",
    "\n",
    "plt.figure(figsize=(10, 6))\n",
    "sns.barplot(x=location_dist.index, y=location_dist.values)\n",
    "plt.title('Request Distribution by Location')\n",
    "plt.xlabel('Pickup Point')\n",
    "plt.ylabel('Number of Requests')\n",
    "plt.xticks(rotation=45)\n",
    "plt.tight_layout()\n",
    "plt.show()"
   ]
  },
  {
   "cell_type": "markdown",
   "metadata": {},
   "source": [
    "### 2.2 Status Distribution"
   ]
  },
  {
   "cell_type": "code",
   "execution_count": null,
   "metadata": {},
   "source": [
    "# Status distribution\n",
    "status_dist = df['Status'].value_counts()\n",
    "\n",
    "plt.figure(figsize=(8, 8))\n",
    "plt.pie(status_dist.values, labels=status_dist.index, autopct='%.1f%%', startangle=90)\n",
    "plt.title('Request Status Distribution')\n",
    "plt.tight_layout()\n",
    "plt.show()"
   ]
  },
  {
   "cell_type": "markdown",
   "metadata": {},
   "source": [
    "### 2.3 Hourly Pattern Analysis"
   ]
  },
  {
   "cell_type": "code",
   "execution_count": null,
   "metadata": {},
   "source": [
    "# Hourly request distribution\n",
    "hourly_dist = df.groupby('Hour')['Request_timestamp'].count()\n",
    "\n",
    "plt.figure(figsize=(12, 6))\n",
    "sns.lineplot(x=hourly_dist.index, y=hourly_dist.values)\n",
    "plt.title('Hourly Request Distribution')\n",
    "plt.xlabel('Hour of Day')\n",
    "plt.ylabel('Number of Requests')\n",
    "plt.xticks(range(24))\n",
    "plt.grid(True)\n",
    "plt.tight_layout()\n",
    "plt.show()"
   ]
  },
  {
   "cell_type": "markdown",
   "metadata": {},
   "source": [
    "### 2.4 Daily Pattern Analysis"
   ]
  },
  {
   "cell_type": "code",
   "execution_count": null,
   "metadata": {},
   "source": [
    "# Daily request distribution\n",
    "daily_dist = df.groupby('Day')['Request_timestamp'].count().sort_values()\n",
    "\n",
    "plt.figure(figsize=(10, 6))\n",
    "sns.barplot(x=daily_dist.index, y=daily_dist.values)\n",
    "plt.title('Daily Request Distribution')\n",
    "plt.xlabel('Day of Week')\n",
    "plt.ylabel('Number of Requests')\n",
    "plt.xticks(rotation=45)\n",
    "plt.tight_layout()\n",
    "plt.show()"
   ]
  },
  {
   "cell_type": "markdown",
   "metadata": {},
   "source": [
    "### 2.5 Wait Time Analysis"
   ]
  },
  {
   "cell_type": "code",
   "execution_count": null,
   "metadata": {},
   "source": [
    "# Wait time analysis (only for completed rides)\n",
    "completed_df = df[df['Status'] == 'Completed']\n",
    "\n",
    "plt.figure(figsize=(12, 6))\n",
    "sns.boxplot(x='Pickup_point', y='Wait_Time', data=completed_df)\n",
    "plt.title('Wait Time Distribution by Location')\n",
    "plt.xlabel('Pickup Point')\n",
    "plt.ylabel('Wait Time (minutes)')\n",
    "plt.xticks(rotation=45)\n",
    "plt.tight_layout()\n",
    "plt.show()"
   ]
  },
  {
   "cell_type": "markdown",
   "metadata": {},
   "source": [
    "## 3. Insights and Recommendations\n",
    "\n",
    "### Key Findings:\n",
    "1. Location Analysis:\n",
    "   - Identify the most popular pickup locations\n",
    "   - Analyze location-wise service demand\n",
    "   - Optimize driver allocation\n",
    "\n",
    "2. Time Patterns:\n",
    "   - Identify peak hours for service demand\n",
    "   - Analyze wait times during peak hours\n",
    "   - Optimize driver scheduling\n",
    "\n",
    "3. Service Performance:\n",
    "   - Track completion vs cancellation rates\n",
    "   - Monitor wait times\n",
    "   - Identify areas for improvement\n",
    "\n",
    "### Recommendations:\n",
    "1. Driver Allocation:\n",
    "   - Increase driver availability during peak hours\n",
    "   - Focus on high-demand locations\n",
    "   - Implement dynamic driver distribution\n",
    "\n",
    "2. Service Improvement:\n",
    "   - Reduce wait times in high-demand areas\n",
    "   - Address cancellation hotspots\n",
    "   - Enhance weekend service coverage\n",
    "\n",
    "3. Resource Planning:\n",
    "   - Schedule drivers based on historical patterns\n",
    "   - Monitor performance metrics\n",
    "   - Implement location-specific strategies"
   ]
  }
 ],
 "metadata": {
  "kernelspec": {
   "display_name": "Python 3",
   "language": "python",
   "name": "python3"
  },
  "language_info": {
   "codemirror_mode": {
    "name": "ipython",
    "version": 3
   },
   "file_extension": ".py",
   "mimetype": "text/x-python",
   "name": "python",
   "nbconvert_exporter": "python",
   "pygments_lexer": "ipython3",
   "version": "3.8.0"
  }
 },
 "nbformat": 4,
 "nbformat_minor": 4
}

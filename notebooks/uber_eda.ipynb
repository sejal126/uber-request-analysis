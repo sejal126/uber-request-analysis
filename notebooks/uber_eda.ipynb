{
 "cells": [
  {
   "cell_type": "markdown",
   "metadata": {},
   "source": [
    "# Uber Request Data Analysis - EDA"
   ]
  },
  {
   "cell_type": "code",
   "execution_count": null,
   "metadata": {},
   "source": [
    "import pandas as pd\n",
    "import numpy as np\n",
    "import matplotlib.pyplot as plt\n",
    "import seaborn as sns\n",
    "from datetime import datetime\n",
    "\n",
    "# Set plot style\n",
    "plt.style.use('seaborn')\n",
    "\n",
    "# Load the data\n",
    "df = pd.read_csv('../data/Uber Request Data.csv')\n",
    "\n",
    "# Display first few rows\n",
    "df.head()"
   ]
  },
  {
   "cell_type": "markdown",
   "metadata": {},
   "source": [
    "## Data Cleaning"
   ]
  },
  {
   "cell_type": "code",
   "execution_count": null,
   "metadata": {},
   "source": [
    "# Check for missing values\n",
    "print('Missing values:\n', df.isnull().sum())\n",
    "\n",
    "# Convert timestamp columns\n",
    "df['Request timestamp'] = pd.to_datetime(df['Request timestamp'])\n",
    "df['Pickup timestamp'] = pd.to_datetime(df['Pickup timestamp'])\n",
    "\n",
    "# Create additional useful columns\n",
    "df['Hour'] = df['Request timestamp'].dt.hour\n",
    "df['Day'] = df['Request timestamp'].dt.day_name()\n",
    "df['Weekday'] = df['Request timestamp'].dt.weekday\n",
    "\n",
    "# Calculate wait time for completed requests\n",
    "df['Wait Time'] = (df['Pickup timestamp'] - df['Request timestamp']).dt.total_seconds() / 60\n",
    "\n",
    "# Handle missing values in Pickup timestamp\n",
    "df['Wait Time'] = df['Wait Time'].fillna(0)\n",
    "\n",
    "# Display cleaned data info\n",
    "df.info()"
   ]
  },
  {
   "cell_type": "markdown",
   "metadata": {},
   "source": [
    "## Exploratory Data Analysis"
   ]
  },
  {
   "cell_type": "markdown",
   "metadata": {},
   "source": [
    "### 1. Request Distribution by Location"
   ]
  },
  {
   "cell_type": "code",
   "execution_count": null,
   "metadata": {},
   "source": [
    "plt.figure(figsize=(12, 6))\n",
    "sns.countplot(data=df, x='Pickup point')\n",
    "plt.title('Distribution of Requests by Pickup Point')\n",
    "plt.xlabel('Pickup Point')\n",
    "plt.ylabel('Number of Requests')\n",
    "plt.xticks(rotation=45)\n",
    "plt.show()"
   ]
  },
  {
   "cell_type": "markdown",
   "metadata": {},
   "source": [
    "### 2. Request Status Analysis"
   ]
  },
  {
   "cell_type": "code",
   "execution_count": null,
   "metadata": {},
   "source": [
    "# Create a pie chart for request status\n",
    "plt.figure(figsize=(8, 8))\n",
    "df['Status'].value_counts().plot(kind='pie', autopct='%1.1f%%')\n",
    "plt.title('Distribution of Request Status')\n",
    "plt.ylabel('')\n",
    "plt.show()\n",
    "\n",
    "# Detailed status counts\n",
    "status_counts = df['Status'].value_counts()\n",
    "status_counts"
   ]
  },
  {
   "cell_type": "markdown",
   "metadata": {},
   "source": [
    "### 3. Time-Based Analysis"
   ]
  },
  {
   "cell_type": "code",
   "execution_count": null,
   "metadata": {},
   "source": [
    "# Hourly request distribution\n",
    "plt.figure(figsize=(15, 6))\n",
    "sns.countplot(data=df, x='Hour')\n",
    "plt.title('Hourly Request Distribution')\n",
    "plt.xlabel('Hour of Day')\n",
    "plt.ylabel('Number of Requests')\n",
    "plt.xticks(rotation=45)\n",
    "plt.show()\n",
    "\n",
    "# Day of week analysis\n",
    "plt.figure(figsize=(12, 6))\n",
    "sns.countplot(data=df, x='Day', order=['Monday', 'Tuesday', 'Wednesday', 'Thursday', 'Friday', 'Saturday', 'Sunday'])\n",
    "plt.title('Request Distribution by Day of Week')\n",
    "plt.xlabel('Day of Week')\n",
    "plt.ylabel('Number of Requests')\n",
    "plt.xticks(rotation=45)\n",
    "plt.show()"
   ]
  },
  {
   "cell_type": "markdown",
   "metadata": {},
   "source": [
    "### 4. Wait Time Analysis"
   ]
  },
  {
   "cell_type": "code",
   "execution_count": null,
   "metadata": {},
   "source": [
    "# Wait time statistics\n",
    "wait_time_stats = df[df['Wait Time'] > 0]['Wait Time'].describe()\n",
    "wait_time_stats\n",
    "\n",
    "# Wait time distribution\n",
    "plt.figure(figsize=(12, 6))\n",
    "sns.histplot(data=df[df['Wait Time'] > 0], x='Wait Time', bins=30)\n",
    "plt.title('Distribution of Wait Times')\n",
    "plt.xlabel('Wait Time (minutes)')\n",
    "plt.ylabel('Number of Requests')\n",
    "plt.show()"
   ]
  },
  {
   "cell_type": "markdown",
   "metadata": {},
   "source": [
    "### 5. Location-Based Analysis"
   ]
  },
  {
   "cell_type": "code",
   "execution_count": null,
   "metadata": {},
   "source": [
    "# Cancellation rates by location\n",
    "cancellation_rates = df[df['Status'] == 'Cancelled'].groupby('Pickup point')['Status'].count() / df.groupby('Pickup point')['Status'].count() * 100\n",
    "cancellation_rates = cancellation_rates.sort_values(ascending=False)\n",
    "\n",
    "plt.figure(figsize=(12, 6))\n",
    "cancellation_rates.plot(kind='bar')\n",
    "plt.title('Cancellation Rate by Location')\n",
    "plt.xlabel('Pickup Point')\n",
    "plt.ylabel('Cancellation Rate (%)')\n",
    "plt.xticks(rotation=45)\n",
    "plt.show()"
   ]
  },
  {
   "cell_type": "markdown",
   "metadata": {},
   "source": [
    "## Insights and Recommendations"
   ]
  },
  {
   "cell_type": "markdown",
   "metadata": {},
   "source": [
    "1. Peak Request Times:\n",
    "   - Identify peak hours and days for resource allocation\n",
    "   - Schedule more drivers during peak times\n",
    "\n",
    "2. Cancellation Patterns:\n",
    "   - Analyze high cancellation locations\n",
    "   - Implement strategies to reduce cancellations\n",
    "\n",
    "3. Wait Time Optimization:\n",
    "   - Analyze wait time distribution\n",
    "   - Set realistic wait time expectations\n",
    "\n",
    "4. Location-Specific Strategies:\n",
    "   - Allocate resources based on location demand\n",
    "   - Implement location-specific marketing\n",
    "\n",
    "5. Time-Based Strategies:\n",
    "   - Optimize driver schedules\n",
    "   - Implement surge pricing during peak times"
   ]
  }
 ],
 "metadata": {
  "kernelspec": {
   "display_name": "Python 3",
   "language": "python",
   "name": "python3"
  },
  "language_info": {
   "codemirror_mode": {
    "name": "ipython",
    "version": 3
   },
   "file_extension": ".py",
   "mimetype": "text/x-python",
   "name": "python",
   "nbconvert_exporter": "python",
   "pygments_lexer": "ipython3",
   "version": "3.8.0"
  }
 },
 "nbformat": 4,
 "nbformat_minor": 4
}
